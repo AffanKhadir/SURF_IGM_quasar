{
 "cells": [
  {
   "cell_type": "markdown",
   "id": "a31aed33",
   "metadata": {},
   "source": [
    "### photoionization equation:\n",
    "\n",
    "$$ \\frac{d x_{\\rm HI}}{dt}=-\\Gamma x_{\\rm HI}+\\alpha(T)n_e x_{\\rm HII}$$"
   ]
  },
  {
   "cell_type": "markdown",
   "id": "b5f4a2f8",
   "metadata": {},
   "source": [
    "### let's first consider ionization is solely due to the quasar:\n",
    "\n",
    "$$\\Gamma=\\int^{\\infty}_{v_0} \\frac{L}{4\\pi r^2 h\\nu} a(\\nu)d\\nu$$"
   ]
  },
  {
   "cell_type": "markdown",
   "id": "0205dd04",
   "metadata": {},
   "source": [
    "#### Note that in my code I use $N(\\nu)$:\n",
    "$$ N(\\nu) = \\frac{L(\\nu)}{h\\nu}$$"
   ]
  },
  {
   "cell_type": "markdown",
   "id": "f0271227",
   "metadata": {},
   "source": [
    "### To convert Magnitude to N, we use some template:\n",
    "(which unevitably introduce systematic uncertainties...)"
   ]
  },
  {
   "cell_type": "code",
   "execution_count": null,
   "id": "caf20e78",
   "metadata": {},
   "outputs": [],
   "source": []
  }
 ],
 "metadata": {
  "kernelspec": {
   "display_name": "Python 3 (ipykernel)",
   "language": "python",
   "name": "python3"
  },
  "language_info": {
   "codemirror_mode": {
    "name": "ipython",
    "version": 3
   },
   "file_extension": ".py",
   "mimetype": "text/x-python",
   "name": "python",
   "nbconvert_exporter": "python",
   "pygments_lexer": "ipython3",
   "version": "3.10.2"
  }
 },
 "nbformat": 4,
 "nbformat_minor": 5
}
