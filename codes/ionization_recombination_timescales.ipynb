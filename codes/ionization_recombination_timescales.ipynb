{
 "cells": [
  {
   "cell_type": "code",
   "execution_count": 1,
   "id": "9377e14d",
   "metadata": {},
   "outputs": [],
   "source": [
    "import scipy\n",
    "from scipy import integrate\n",
    "import numpy as np\n",
    "import matplotlib as mpl\n",
    "import matplotlib.pyplot as plt"
   ]
  },
  {
   "cell_type": "markdown",
   "id": "089b1042",
   "metadata": {},
   "source": [
    "### key equation (photo-ionization)\n",
    "$ \\frac{d x_{\\rm HI}}{dt} = -\\Gamma x_{\\rm HI}+\\alpha n_e x_{\\rm HII}$"
   ]
  },
  {
   "cell_type": "code",
   "execution_count": 6,
   "id": "be8beffa",
   "metadata": {},
   "outputs": [],
   "source": [
    "def Gamma_r(r):\n",
    "    return 1e-12*(r/4)**-2"
   ]
  },
  {
   "cell_type": "code",
   "execution_count": 39,
   "id": "780ffc44",
   "metadata": {},
   "outputs": [],
   "source": [
    "def xHI_equil(Gamma,nH):\n",
    "    recomb=alpha*nH\n",
    "    return recomb/(Gamma+recomb)"
   ]
  },
  {
   "cell_type": "code",
   "execution_count": 41,
   "id": "fd9f1700",
   "metadata": {},
   "outputs": [
    {
     "data": {
      "text/plain": [
       "0.038461538461538464"
      ]
     },
     "execution_count": 41,
     "metadata": {},
     "output_type": "execute_result"
    }
   ],
   "source": [
    "xHI_equil(1e-13,1e-2)"
   ]
  },
  {
   "cell_type": "code",
   "execution_count": null,
   "id": "17853db0",
   "metadata": {},
   "outputs": [],
   "source": []
  },
  {
   "cell_type": "code",
   "execution_count": 30,
   "id": "4ce64c4c",
   "metadata": {},
   "outputs": [
    {
     "data": {
      "text/plain": [
       "1.6e-11"
      ]
     },
     "execution_count": 30,
     "metadata": {},
     "output_type": "execute_result"
    }
   ],
   "source": [
    "Gamma_r(1)"
   ]
  },
  {
   "cell_type": "code",
   "execution_count": 7,
   "id": "87b98b4a",
   "metadata": {},
   "outputs": [],
   "source": [
    "alpha=4e-13 #[cm^3 s^-1]"
   ]
  },
  {
   "cell_type": "code",
   "execution_count": 8,
   "id": "e23af7f8",
   "metadata": {},
   "outputs": [],
   "source": [
    "xHI=1e-3\n",
    "xHII=1"
   ]
  },
  {
   "cell_type": "code",
   "execution_count": 9,
   "id": "86f4bb65",
   "metadata": {},
   "outputs": [],
   "source": [
    "def func(y,t,Gamma,nH):\n",
    "    ret=-Gamma*y+alpha*nH*(1-y)\n",
    "    return ret"
   ]
  },
  {
   "cell_type": "code",
   "execution_count": 10,
   "id": "fcc1482a",
   "metadata": {},
   "outputs": [
    {
     "data": {
      "text/plain": [
       "3.996e-17"
      ]
     },
     "execution_count": 10,
     "metadata": {},
     "output_type": "execute_result"
    }
   ],
   "source": [
    "func(1e-3,0,0,1e-4)"
   ]
  },
  {
   "cell_type": "code",
   "execution_count": 58,
   "id": "9d5e89f8",
   "metadata": {},
   "outputs": [],
   "source": [
    "t=np.logspace(5,12,100)"
   ]
  },
  {
   "cell_type": "code",
   "execution_count": 66,
   "id": "29388cbd",
   "metadata": {},
   "outputs": [],
   "source": [
    "y=integrate.odeint(func, 1e-2,t , args=(1e-12,1e-2,))"
   ]
  },
  {
   "cell_type": "code",
   "execution_count": 67,
   "id": "c14123c9",
   "metadata": {},
   "outputs": [],
   "source": [
    "t1=np.logspace(5,12,100)\n",
    "y1=integrate.odeint(func, y[-1],t1 , args=(0,1e-2,))"
   ]
  },
  {
   "cell_type": "code",
   "execution_count": 68,
   "id": "a6f66555",
   "metadata": {},
   "outputs": [
    {
     "data": {
      "text/plain": [
       "Text(0.5, 0, 't [yr]')"
      ]
     },
     "execution_count": 68,
     "metadata": {},
     "output_type": "execute_result"
    },
    {
     "data": {
      "image/png": "[encoded data removed]",
      "text/plain": [
       "<Figure size 432x288 with 1 Axes>"
      ]
     },
     "metadata": {
      "needs_background": "light"
     },
     "output_type": "display_data"
    }
   ],
   "source": [
    "plt.plot(t/3e7,y)\n",
    "plt.plot((t1)/3e7,y1)\n",
    "plt.grid()\n",
    "plt.xlim(1,1e10)\n",
    "plt.ylim(1e-5,1.3)\n",
    "# plt.xlim(1e5,1e6)\n",
    "plt.loglog()\n",
    "plt.ylabel(\"xHI\")\n",
    "plt.xlabel(\"t [yr]\")"
   ]
  },
  {
   "cell_type": "code",
   "execution_count": 69,
   "id": "1da06437",
   "metadata": {},
   "outputs": [
    {
     "data": {
      "text/plain": [
       "Text(0.5, 0, 't [yr]')"
      ]
     },
     "execution_count": 69,
     "metadata": {},
     "output_type": "execute_result"
    },
    {
     "data": {
      "image/png": "[encoded data removed]",
      "text/plain": [
       "<Figure size 432x288 with 1 Axes>"
      ]
     },
     "metadata": {
      "needs_background": "light"
     },
     "output_type": "display_data"
    }
   ],
   "source": [
    "plt.plot(t/3e7,y)\n",
    "plt.plot((t1)/3e7,y1)\n",
    "plt.grid()\n",
    "plt.xlim(1,1e10)\n",
    "plt.ylim(1e-5,1.3)\n",
    "# plt.xlim(1e5,1e6)\n",
    "plt.loglog()\n",
    "plt.ylabel(\"xHI\")\n",
    "plt.xlabel(\"t [yr]\")"
   ]
  },
  {
   "cell_type": "code",
   "execution_count": null,
   "id": "f132c404",
   "metadata": {},
   "outputs": [],
   "source": []
  }
 ],
 "metadata": {
  "kernelspec": {
   "display_name": "Python 3 (ipykernel)",
   "language": "python",
   "name": "python3"
  },
  "language_info": {
   "codemirror_mode": {
    "name": "ipython",
    "version": 3
   },
   "file_extension": ".py",
   "mimetype": "text/x-python",
   "name": "python",
   "nbconvert_exporter": "python",
   "pygments_lexer": "ipython3",
   "version": "3.9.7"
  }
 },
 "nbformat": 4,
 "nbformat_minor": 5
}
