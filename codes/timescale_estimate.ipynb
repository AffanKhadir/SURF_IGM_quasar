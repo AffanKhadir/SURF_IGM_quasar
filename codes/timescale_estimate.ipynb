{
 "cells": [
  {
   "cell_type": "code",
   "execution_count": 9,
   "id": "9377e14d",
   "metadata": {},
   "outputs": [],
   "source": [
    "import scipy\n",
    "from scipy import integrate\n",
    "import numpy as np\n",
    "import matplotlib as mpl\n",
    "import matplotlib.pyplot as plt"
   ]
  },
  {
   "cell_type": "code",
   "execution_count": 3,
   "id": "87b98b4a",
   "metadata": {},
   "outputs": [],
   "source": [
    "Gamma=1e-12  #[s^-1]\n",
    "alpha=4e-13 #[cm^3 s^-1]"
   ]
  },
  {
   "cell_type": "code",
   "execution_count": 4,
   "id": "e23af7f8",
   "metadata": {},
   "outputs": [],
   "source": [
    "xHI=1e-3\n",
    "xHII=1"
   ]
  },
  {
   "cell_type": "code",
   "execution_count": 82,
   "id": "86f4bb65",
   "metadata": {},
   "outputs": [],
   "source": [
    "def func(y,t,Gamma,nH):\n",
    "    ret=-Gamma*y+alpha*nH*(1-y)\n",
    "    return ret"
   ]
  },
  {
   "cell_type": "code",
   "execution_count": 41,
   "id": "fcc1482a",
   "metadata": {},
   "outputs": [
    {
     "data": {
      "text/plain": [
       "3.996e-17"
      ]
     },
     "execution_count": 41,
     "metadata": {},
     "output_type": "execute_result"
    }
   ],
   "source": [
    "func(1e-3,0,0,1e-4)"
   ]
  },
  {
   "cell_type": "code",
   "execution_count": 111,
   "id": "9d5e89f8",
   "metadata": {},
   "outputs": [],
   "source": [
    "t=np.logspace(5,13,100)"
   ]
  },
  {
   "cell_type": "code",
   "execution_count": 112,
   "id": "29388cbd",
   "metadata": {},
   "outputs": [],
   "source": [
    "y=integrate.odeint(func, 1e-3,t , args=(1e-12,1e-4,))"
   ]
  },
  {
   "cell_type": "code",
   "execution_count": 125,
   "id": "c14123c9",
   "metadata": {},
   "outputs": [],
   "source": [
    "t1=np.logspace(5,14,100)\n",
    "y1=integrate.odeint(func, y[-1],t1 , args=(0,1e-4,))"
   ]
  },
  {
   "cell_type": "code",
   "execution_count": 126,
   "id": "b957eb1a",
   "metadata": {},
   "outputs": [],
   "source": [
    "t2=np.logspace(13,17,100000)\n",
    "y2=integrate.odeint(func, y[-1],t2 , args=(0,1e-4,))"
   ]
  },
  {
   "cell_type": "code",
   "execution_count": 115,
   "id": "9eb752a6",
   "metadata": {},
   "outputs": [
    {
     "data": {
      "text/plain": [
       "array([[4.00419938e-05],\n",
       "       [4.00788358e-05],\n",
       "       [4.01156811e-05],\n",
       "       ...,\n",
       "       [9.81664263e-01],\n",
       "       [9.81671016e-01],\n",
       "       [9.81677767e-01]])"
      ]
     },
     "execution_count": 115,
     "metadata": {},
     "output_type": "execute_result"
    }
   ],
   "source": [
    "y2"
   ]
  },
  {
   "cell_type": "code",
   "execution_count": 122,
   "id": "a6f66555",
   "metadata": {},
   "outputs": [
    {
     "data": {
      "text/plain": [
       "Text(0.5, 0, 't [yr]')"
      ]
     },
     "execution_count": 122,
     "metadata": {},
     "output_type": "execute_result"
    },
    {
     "data": {
      "image/png": "[encoded data removed]",
      "text/plain": [
       "<Figure size 432x288 with 1 Axes>"
      ]
     },
     "metadata": {
      "needs_background": "light"
     },
     "output_type": "display_data"
    }
   ],
   "source": [
    "plt.plot(t/3e7,y)\n",
    "plt.plot((t1+t[-1])/3e7,y1)\n",
    "plt.plot(t2/3e7,y2,ls='--')\n",
    "plt.grid()\n",
    "plt.xlim(1,1e10)\n",
    "plt.ylim(1e-5,1.3)\n",
    "# plt.xlim(1e5,1e6)\n",
    "plt.loglog()\n",
    "plt.ylabel(\"xHI\")\n",
    "plt.xlabel(\"t [yr]\")"
   ]
  },
  {
   "cell_type": "code",
   "execution_count": 127,
   "id": "1da06437",
   "metadata": {},
   "outputs": [
    {
     "data": {
      "text/plain": [
       "Text(0.5, 0, 't [yr]')"
      ]
     },
     "execution_count": 127,
     "metadata": {},
     "output_type": "execute_result"
    },
    {
     "data": {
      "image/png": "[encoded data removed]",
      "text/plain": [
       "<Figure size 432x288 with 1 Axes>"
      ]
     },
     "metadata": {
      "needs_background": "light"
     },
     "output_type": "display_data"
    }
   ],
   "source": [
    "plt.plot(t/3e7,y)\n",
    "plt.plot((t1)/3e7,y1)\n",
    "plt.grid()\n",
    "plt.xlim(1,1e10)\n",
    "plt.ylim(1e-5,1.3)\n",
    "# plt.xlim(1e5,1e6)\n",
    "plt.loglog()\n",
    "plt.ylabel(\"xHI\")\n",
    "plt.xlabel(\"t [yr]\")"
   ]
  },
  {
   "cell_type": "code",
   "execution_count": null,
   "id": "f132c404",
   "metadata": {},
   "outputs": [],
   "source": []
  }
 ],
 "metadata": {
  "kernelspec": {
   "display_name": "Python 3 (ipykernel)",
   "language": "python",
   "name": "python3"
  },
  "language_info": {
   "codemirror_mode": {
    "name": "ipython",
    "version": 3
   },
   "file_extension": ".py",
   "mimetype": "text/x-python",
   "name": "python",
   "nbconvert_exporter": "python",
   "pygments_lexer": "ipython3",
   "version": "3.9.7"
  }
 },
 "nbformat": 4,
 "nbformat_minor": 5
}
